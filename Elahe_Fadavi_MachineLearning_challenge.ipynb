{
 "cells": [
  {
   "cell_type": "code",
   "execution_count": 7,
   "metadata": {},
   "outputs": [],
   "source": [
    "#Elahe Fadavi\n",
    "#date: 11/20/2020\n",
    "#python 3\n",
    "\n",
    "import pandas as pd\n",
    "import numpy as np\n",
    "from sklearn.preprocessing import StandardScaler\n",
    "from sklearn.preprocessing import LabelEncoder\n",
    "from sklearn.model_selection import train_test_split\n",
    "from sklearn.manifold import TSNE\n",
    "import matplotlib.pyplot as plt\n",
    "%matplotlib inline\n",
    "\n",
    "#data aqcuisition\n",
    "df= pd.read_csv('C:/Users/Elham/Downloads/1410001701_databaseLoadingData.csv')\n",
    "df.head()\n",
    "\n",
    "#data cleaning (dealing with missing values)\n",
    "counter_nan = df.isnull().sum()\n",
    "counter_without_nan = counter_nan[counter_nan==0]\n",
    "df= df[counter_without_nan.keys()]\n",
    "\n",
    "\n",
    "#standardize the data\n",
    "X = df[:,:-1].values\n",
    "scaler = StandardScaler()\n",
    "X_standard= scaler.fit_transform(X)\n",
    "\n",
    "y = df.ix[:,-1].values\n",
    "label_encoder = LabelEncoder()\n",
    "y = label_encoder.fit_transform(y)\n",
    "\n",
    "#splitting data (train\\test)\n",
    "X_train, X_test, y_train, y_test = train_test_split(X_standard , y, test_size =0.3 , random_state = 101)\n",
    "\n",
    "\n",
    "\n",
    "tsne = TSNE(n_components=2, random_state=0, verbose=1)\n",
    "X_2d = tsne.fit_transform(X_standard)\n",
    "\n",
    "\n",
    "\n",
    "#scatter plot\n",
    "markers=('o', 'v', '^', '<', '>')\n",
    "color_map = {0:'red', 1:'green', 2:'blue', 3:'yellow', 4:'black'}\n",
    "plt.figure(figsize=(12, 8))\n",
    "\n",
    "for idx, cl in enumerate(np.unique(y_test)):\n",
    "    plt.scatter(X_2d[y_test==cl,0], X_2d[y_test==cl,1], c=color_map[idx], marker=markers[idx], label=cl)\n",
    "plt.xlabel('X Label')\n",
    "plt.ylabel('Y Label')\n",
    "plt.legend()\n",
    "plt.title('T-SNE visualization')\n"
   ]
  },
  {
   "cell_type": "code",
   "execution_count": null,
   "metadata": {},
   "outputs": [],
   "source": []
  }
 ],
 "metadata": {
  "kernelspec": {
   "display_name": "Python 3",
   "language": "python",
   "name": "python3"
  },
  "language_info": {
   "codemirror_mode": {
    "name": "ipython",
    "version": 3
   },
   "file_extension": ".py",
   "mimetype": "text/x-python",
   "name": "python",
   "nbconvert_exporter": "python",
   "pygments_lexer": "ipython3",
   "version": "3.8.6"
  }
 },
 "nbformat": 4,
 "nbformat_minor": 4
}
